{
 "cells": [
  {
   "cell_type": "code",
   "execution_count": 1,
   "id": "daec310e-2166-4c26-98bb-dcfeaa146a5c",
   "metadata": {},
   "outputs": [
    {
     "name": "stdout",
     "output_type": "stream",
     "text": [
      "Total samples available: 623342\n",
      "Columns: ['author', 'clean_title', 'created_utc', 'domain', 'hasImage', 'id', 'image_url', 'linked_submission_id', 'num_comments', 'score', 'subreddit', 'title', 'upvote_ratio', '2_way_label', '3_way_label', '6_way_label']\n",
      "\n",
      "First few rows:\n",
      "           author                                        clean_title  \\\n",
      "0     Alexithymia  my walgreens offbrand mucinex was engraved wit...   \n",
      "1        VIDCAs17                this concerned sink with a tiny hat   \n",
      "2  prometheus1123      hackers leak emails from uae ambassador to us   \n",
      "3             NaN                           puppy taking in the view   \n",
      "4       3rikR3ith               i found a face in my sheet music too   \n",
      "\n",
      "    created_utc         domain  hasImage      id  \\\n",
      "0  1.551641e+09    i.imgur.com      True  awxhir   \n",
      "1  1.534727e+09      i.redd.it      True  98pbid   \n",
      "2  1.496511e+09  aljazeera.com      True  6f2cy5   \n",
      "3  1.471341e+09    i.imgur.com      True  4xypkv   \n",
      "4  1.525318e+09      i.redd.it      True  8gnet9   \n",
      "\n",
      "                                           image_url linked_submission_id  \\\n",
      "0  https://external-preview.redd.it/WylDbZrnbvZdB...                  NaN   \n",
      "1  https://preview.redd.it/wsfx0gp0f5h11.jpg?widt...                  NaN   \n",
      "2  https://external-preview.redd.it/6fNhdbc6K1vFA...                  NaN   \n",
      "3  https://external-preview.redd.it/HLtVNhTR6wtYt...                  NaN   \n",
      "4  https://preview.redd.it/ri7ut2wn8kv01.jpg?widt...                  NaN   \n",
      "\n",
      "   num_comments  score          subreddit  \\\n",
      "0           2.0     12  mildlyinteresting   \n",
      "1           2.0    119         pareidolia   \n",
      "2           1.0     44        neutralnews   \n",
      "3          26.0    250   photoshopbattles   \n",
      "4           2.0     13         pareidolia   \n",
      "\n",
      "                                               title  upvote_ratio  \\\n",
      "0  My Walgreens offbrand Mucinex was engraved wit...          0.84   \n",
      "1                This concerned sink with a tiny hat          0.99   \n",
      "2      Hackers leak emails from UAE ambassador to US          0.92   \n",
      "3                 PsBattle: Puppy taking in the view          0.95   \n",
      "4              I found a face in my sheet music too!          0.84   \n",
      "\n",
      "   2_way_label  3_way_label  6_way_label  \n",
      "0            1            0            0  \n",
      "1            0            2            2  \n",
      "2            1            0            0  \n",
      "3            1            0            0  \n",
      "4            0            2            2  \n",
      "\n",
      "Label distribution:\n",
      "2_way_label\n",
      "0    377941\n",
      "1    245401\n",
      "Name: count, dtype: int64\n"
     ]
    }
   ],
   "source": [
    "import pandas as pd\n",
    "import os\n",
    "import numpy as np\n",
    "from tqdm.auto import tqdm\n",
    "\n",
    "# Load the raw TSV files\n",
    "df_train = pd.read_csv(\"./data/multimodal_train.tsv\", sep=\"\\t\")\n",
    "df_val = pd.read_csv(\"./data/multimodal_validate.tsv\", sep=\"\\t\")\n",
    "\n",
    "# Combine datasets\n",
    "df_full = pd.concat([df_train, df_val], ignore_index=True)\n",
    "\n",
    "print(f\"Total samples available: {len(df_full)}\")\n",
    "print(f\"Columns: {list(df_full.columns)}\")\n",
    "print(\"\\nFirst few rows:\")\n",
    "print(df_full.head())\n",
    "\n",
    "# Check label distribution\n",
    "print(\"\\nLabel distribution:\")\n",
    "print(df_full['2_way_label'].value_counts())"
   ]
  },
  {
   "cell_type": "code",
   "execution_count": 2,
   "id": "01a96c1b-f558-4f9e-a559-9392e239a874",
   "metadata": {},
   "outputs": [
    {
     "data": {
      "text/plain": [
       "(8000, 16)"
      ]
     },
     "execution_count": 2,
     "metadata": {},
     "output_type": "execute_result"
    }
   ],
   "source": [
    "n_target = 4000\n",
    "\n",
    "true = df_full.loc[(df_full[\"2_way_label\"] == 1) & ~(df_full[\"image_url\"].isnull())]\n",
    "fake = df_full.loc[(df_full[\"2_way_label\"] == 0) & ~(df_full[\"image_url\"].isnull())]\n",
    "\n",
    "# Select the image url only for a valid URL http://i.imgur.com/Iauyw9R.jpg\t\n",
    "fileTypes = [\"jpg\", \"jpeg\"]\n",
    "\n",
    "\n",
    "# Filter \n",
    "true_img_url = true.loc[true[\"image_url\"].str.contains(\"|\".join(fileTypes), na=False, case=False)]\n",
    "fake_img_url = fake.loc[fake[\"image_url\"].str.contains(\"|\".join(fileTypes), na=False, case=False)]\n",
    "\n",
    "\n",
    "true_sample = true_img_url.sample(n=n_target)\n",
    "fake_sample = fake_img_url.sample(n=n_target)\n",
    "\n",
    "df = pd.concat([true_sample, fake_sample], ignore_index=True)\n",
    "\n",
    "\n",
    "df.shape"
   ]
  },
  {
   "cell_type": "code",
   "execution_count": 3,
   "id": "14cb16f9-f195-42ea-b314-80900a4e8f8a",
   "metadata": {},
   "outputs": [
    {
     "data": {
      "text/plain": [
       "2_way_label\n",
       "1    1813\n",
       "0    1813\n",
       "Name: count, dtype: int64"
      ]
     },
     "execution_count": 3,
     "metadata": {},
     "output_type": "execute_result"
    }
   ],
   "source": [
    "import os\n",
    "import pandas as pd\n",
    "idss = []\n",
    "for path, dirs, filename in os.walk(\"./fakeddit_sample/images/\"):\n",
    "    for file in filename:\n",
    "        ids = file.split(\".\")[0]\n",
    "        idss.append(ids)\n",
    "\n",
    "\n",
    "\n",
    "valid_image_df = df_full[df_full[\"id\"].isin(idss)]\n",
    "\n",
    "\n",
    "true_valid = valid_image_df[valid_image_df[\"2_way_label\"] == 1]\n",
    "fake_valid = valid_image_df[valid_image_df[\"2_way_label\"] == 0]\n",
    "\n",
    "downsam_true = true_valid.sample(n=len(fake_valid), random_state=42)\n",
    "\n",
    "balanced_df = pd.concat([downsam_true, fake_valid])\n",
    "\n",
    "balanced_df[\"2_way_label\"].value_counts()"
   ]
  },
  {
   "cell_type": "code",
   "execution_count": 4,
   "id": "652bd182-c67c-43f1-8e9e-3336e822662e",
   "metadata": {},
   "outputs": [],
   "source": [
    "import pandas as pd\n",
    "import numpy as np\n",
    "import os\n",
    "import torch\n",
    "import torch.nn as nn\n",
    "from torch.utils.data import Dataset, DataLoader\n",
    "from transformers import AutoModel, AutoTokenizer, CLIPVisionModel, CLIPProcessor\n",
    "from sklearn.model_selection import train_test_split\n",
    "from sklearn.preprocessing import StandardScaler\n",
    "from sklearn.metrics import classification_report, confusion_matrix\n",
    "from PIL import Image\n",
    "from tqdm import tqdm\n",
    "import pickle\n",
    "import torch.nn.functional as F"
   ]
  },
  {
   "cell_type": "code",
   "execution_count": 5,
   "id": "37d848b9-001b-4834-bef1-8a27ee891db7",
   "metadata": {},
   "outputs": [
    {
     "name": "stdout",
     "output_type": "stream",
     "text": [
      "Using device: cuda\n"
     ]
    },
    {
     "name": "stderr",
     "output_type": "stream",
     "text": [
      "`torch_dtype` is deprecated! Use `dtype` instead!\n"
     ]
    },
    {
     "data": {
      "application/vnd.jupyter.widget-view+json": {
       "model_id": "0298679579ea41f7888becad5d492595",
       "version_major": 2,
       "version_minor": 0
      },
      "text/plain": [
       "Loading checkpoint shards:   0%|          | 0/2 [00:00<?, ?it/s]"
      ]
     },
     "metadata": {},
     "output_type": "display_data"
    }
   ],
   "source": [
    "class TextExtractor:\n",
    "    def __init__(self):\n",
    "        self.device = torch.device(\"cuda\" if torch.cuda.is_available() else \"cpu\")\n",
    "        print(f\"Using device: {self.device}\")\n",
    "        \n",
    "        # Text embedding extractor (Mistral 7B)\n",
    "        self.text_tokenizer = AutoTokenizer.from_pretrained(\"mistralai/Mistral-7B-v0.1\")\n",
    "        if self.text_tokenizer.pad_token is None:\n",
    "            self.text_tokenizer.pad_token = self.text_tokenizer.eos_token\n",
    "        \n",
    "        self.text_model = AutoModel.from_pretrained(\n",
    "            \"mistralai/Mistral-7B-v0.1\", \n",
    "            torch_dtype=torch.float16,  # Keep FP16 for memory efficiency\n",
    "            device_map=\"auto\",  # Let transformers handle device mapping\n",
    "            low_cpu_mem_usage=True  # Additional memory optimization\n",
    "        )\n",
    "        \n",
    "        \n",
    "        \n",
    "        # Freeze all parameters - NO TRAINING on these models\n",
    "        for param in self.text_model.parameters():\n",
    "            param.requires_grad = False\n",
    "    \n",
    "            \n",
    "        self.text_model.eval()\n",
    "        \n",
    "        \n",
    "    \n",
    "    def average_pool(self, last_hidden_states, attention_mask):\n",
    "        \"\"\"Average pooling for E5 embeddings\"\"\"\n",
    "        last_hidden = last_hidden_states.masked_fill(~attention_mask[..., None].bool(), 0.0)\n",
    "        return last_hidden.sum(dim=1) / attention_mask.sum(dim=1)[..., None]\n",
    "    \n",
    "    def extract_text_embeddings(self, texts, batch_size=32):\n",
    "        \"\"\"Extract text embeddings using E5-Large-v2\"\"\"\n",
    "        all_embeddings = []\n",
    "        \n",
    "        for i in tqdm(range(0, len(texts), batch_size), desc=\"Extracting mistral text embeddings\"):\n",
    "            batch_texts = texts[i:i+batch_size]\n",
    "            \n",
    "            # Add E5 prefix and handle empty texts\n",
    "            processed_texts = []\n",
    "            for text in batch_texts:\n",
    "                if pd.isna(text) or text is None or str(text).strip() == \"\":\n",
    "                    processed_texts.append(\"query: [NO TEXT]\")\n",
    "                else:\n",
    "                    processed_texts.append(f\"query: {str(text)}\")\n",
    "            \n",
    "            # Tokenize\n",
    "            batch_dict = self.text_tokenizer(\n",
    "                processed_texts,\n",
    "                max_length=512,\n",
    "                padding=True,\n",
    "                truncation=True,\n",
    "                return_tensors='pt'\n",
    "            ).to(self.device)\n",
    "            \n",
    "            # Extract embeddings\n",
    "            with torch.no_grad():\n",
    "                outputs = self.text_model(**batch_dict)\n",
    "                embeddings = self.average_pool(outputs.last_hidden_state, batch_dict['attention_mask'])\n",
    "                # Normalize embeddings (E5 best practice)\n",
    "                embeddings = F.normalize(embeddings, p=2, dim=1)\n",
    "                all_embeddings.append(embeddings.cpu())\n",
    "            \n",
    "            # Memory cleanup\n",
    "            if i % 20 == 0:\n",
    "                torch.cuda.empty_cache()\n",
    "        \n",
    "        return torch.cat(all_embeddings, dim=0).numpy()\n",
    "    \n",
    "   \n",
    "# Usage\n",
    "extractor = TextExtractor()\n",
    "\n"
   ]
  },
  {
   "cell_type": "code",
   "execution_count": 6,
   "id": "59d0da9e-15e1-4926-b525-fcef4428feb1",
   "metadata": {},
   "outputs": [
    {
     "name": "stdout",
     "output_type": "stream",
     "text": [
      "Processing ALL 3626 samples\n"
     ]
    },
    {
     "name": "stderr",
     "output_type": "stream",
     "text": [
      "Extracting mistral text embeddings: 100%|██████████| 114/114 [00:22<00:00,  5.17it/s]\n"
     ]
    },
    {
     "name": "stdout",
     "output_type": "stream",
     "text": [
      "Text embeddings: (3626, 4096)\n"
     ]
    }
   ],
   "source": [
    "def extract_all_embeddings_robust(df, extractor):\n",
    "    \n",
    "    print(f\"Processing ALL {len(df)} samples\")\n",
    "    \n",
    "    # Process ALL texts (handle empty ones gracefully)\n",
    "    texts = []\n",
    "    for text in df['clean_title']:\n",
    "        if pd.isna(text) or str(text).strip() == \"\":\n",
    "            texts.append(\"No title available\")  # Meaningful placeholder\n",
    "        else:\n",
    "            texts.append(str(text))\n",
    "    \n",
    "    text_embeddings = extractor.extract_text_embeddings(texts, batch_size=32)\n",
    "    print(f\"Text embeddings: {text_embeddings.shape}\")\n",
    "    \n",
    "    labels = df['2_way_label'].values\n",
    "    \n",
    "    return {\n",
    "        'text_embeddings': text_embeddings,\n",
    "        'labels': labels,\n",
    "        \n",
    "    }\n",
    "\n",
    "embeddings_data = extract_all_embeddings_robust(balanced_df, extractor)\n",
    "\n",
    "# Save silently\n",
    "with open('./embeddings/mistral-textonly.pkl', 'wb') as f:\n",
    "    pickle.dump(embeddings_data, f)\n"
   ]
  },
  {
   "cell_type": "code",
   "execution_count": 7,
   "id": "cf188ccb-b13c-4055-b8e8-61eac3d099ff",
   "metadata": {},
   "outputs": [
    {
     "name": "stdout",
     "output_type": "stream",
     "text": [
      "Text embeddings shape: (3626, 4096)\n",
      "Labels shape: (3626,)\n"
     ]
    }
   ],
   "source": [
    "class TextEmbeddingDataset(Dataset):\n",
    "    \"\"\"Dataset for text embeddings only\"\"\"\n",
    "    def __init__(self, text_embeddings, labels):\n",
    "        self.text_embeddings = torch.tensor(text_embeddings, dtype=torch.float32)\n",
    "        self.labels = torch.tensor(labels, dtype=torch.long)\n",
    "    \n",
    "    def __len__(self):\n",
    "        return len(self.labels)\n",
    "    \n",
    "    def __getitem__(self, idx):\n",
    "        return {\n",
    "            'text_emb': self.text_embeddings[idx],\n",
    "            'label': self.labels[idx]\n",
    "        }\n",
    "\n",
    "# Assuming you have your embeddings_data from previous work\n",
    "text_embeddings = embeddings_data['text_embeddings']  # Shape: (3626, 1024)\n",
    "labels = embeddings_data['labels']  # Shape: (3626,)\n",
    "\n",
    "print(f\"Text embeddings shape: {text_embeddings.shape}\")\n",
    "print(f\"Labels shape: {labels.shape}\")"
   ]
  },
  {
   "cell_type": "code",
   "execution_count": 8,
   "id": "930ab6fb-0316-4ee3-a25e-98a80c5b2573",
   "metadata": {},
   "outputs": [
    {
     "name": "stdout",
     "output_type": "stream",
     "text": [
      "Text-only model initialized with 2,231,042 parameters\n"
     ]
    }
   ],
   "source": [
    "class TextOnlyBaselineMLP(nn.Module):\n",
    "    def __init__(self, embedding_dim=4096):\n",
    "        super().__init__()\n",
    "        \n",
    "        self.classifier = nn.Sequential(\n",
    "            # First layer\n",
    "            nn.Linear(embedding_dim, 512),\n",
    "            nn.LayerNorm(512),\n",
    "            nn.GELU(),\n",
    "            nn.Dropout(0.3),\n",
    "            \n",
    "            # Second layer\n",
    "            nn.Linear(512, 256),\n",
    "            nn.LayerNorm(256),\n",
    "            nn.GELU(),\n",
    "            nn.Dropout(0.2),\n",
    "            \n",
    "            # Output layer\n",
    "            nn.Linear(256, 2)  # Binary classification (real/fake)\n",
    "        )\n",
    "        \n",
    "        print(f\"Text-only model initialized with {sum(p.numel() for p in self.parameters()):,} parameters\")\n",
    "    \n",
    "    def forward(self, text_emb):\n",
    "        return self.classifier(text_emb)\n",
    "\n",
    "# Create model\n",
    "device = torch.device(\"cuda\" if torch.cuda.is_available() else \"cpu\")\n",
    "text_model = TextOnlyBaselineMLP(embedding_dim=4096).to(device)"
   ]
  },
  {
   "cell_type": "code",
   "execution_count": 9,
   "id": "5efd210f-ab74-47fa-ab0b-1d2489c2242e",
   "metadata": {},
   "outputs": [
    {
     "name": "stdout",
     "output_type": "stream",
     "text": [
      "Training samples: 2175\n",
      "Validation samples: 725\n",
      "Test samples: 726\n"
     ]
    }
   ],
   "source": [
    "from torch.utils.data import random_split\n",
    "\n",
    "# Create dataset\n",
    "full_dataset = TextEmbeddingDataset(text_embeddings, labels)\n",
    "\n",
    "# Split: 60% train, 20% validation, 20% test\n",
    "total_size = len(full_dataset)\n",
    "train_size = int(0.6 * total_size)\n",
    "val_size = int(0.2 * total_size)\n",
    "test_size = total_size - train_size - val_size\n",
    "\n",
    "train_dataset, val_dataset, test_dataset = random_split(\n",
    "    full_dataset, [train_size, val_size, test_size]\n",
    ")\n",
    "\n",
    "print(f\"Training samples: {len(train_dataset)}\")\n",
    "print(f\"Validation samples: {len(val_dataset)}\")\n",
    "print(f\"Test samples: {len(test_dataset)}\")\n",
    "\n",
    "# Create all three loaders\n",
    "train_loader = DataLoader(train_dataset, batch_size=64, shuffle=True)\n",
    "val_loader = DataLoader(val_dataset, batch_size=64, shuffle=False)\n",
    "test_loader = DataLoader(test_dataset, batch_size=64, shuffle=False)  # New!\n"
   ]
  },
  {
   "cell_type": "code",
   "execution_count": 10,
   "id": "f3a1da3e-c462-4325-9e89-63f1e36bd87f",
   "metadata": {},
   "outputs": [],
   "source": [
    "# Training configuration\n",
    "optimizer = torch.optim.AdamW(text_model.parameters(), lr=1e-3, weight_decay=1e-4)\n",
    "criterion = nn.CrossEntropyLoss()\n",
    "scheduler = torch.optim.lr_scheduler.CosineAnnealingLR(optimizer, T_max=30)\n",
    "\n",
    "# Training functions\n",
    "def train_text_epoch(model, train_loader, optimizer, criterion, device):\n",
    "    model.train()\n",
    "    total_loss = 0\n",
    "    correct = 0\n",
    "    total = 0\n",
    "    \n",
    "    for batch in tqdm(train_loader, desc=\"Training\"):\n",
    "        text_emb = batch['text_emb'].to(device)\n",
    "        labels = batch['label'].to(device)\n",
    "        \n",
    "        optimizer.zero_grad()\n",
    "        logits = model(text_emb)\n",
    "        loss = criterion(logits, labels)\n",
    "        loss.backward()\n",
    "        optimizer.step()\n",
    "        \n",
    "        total_loss += loss.item()\n",
    "        _, predicted = torch.max(logits.data, 1)\n",
    "        total += labels.size(0)\n",
    "        correct += (predicted == labels).sum().item()\n",
    "    \n",
    "    return total_loss / len(train_loader), correct / total\n",
    "\n",
    "def validate_text_epoch(model, val_loader, criterion, device):\n",
    "    model.eval()\n",
    "    total_loss = 0\n",
    "    correct = 0\n",
    "    total = 0\n",
    "    \n",
    "    with torch.no_grad():\n",
    "        for batch in tqdm(val_loader, desc=\"Validating\"):\n",
    "            text_emb = batch['text_emb'].to(device)\n",
    "            labels = batch['label'].to(device)\n",
    "            \n",
    "            logits = model(text_emb)\n",
    "            loss = criterion(logits, labels)\n",
    "            \n",
    "            total_loss += loss.item()\n",
    "            _, predicted = torch.max(logits.data, 1)\n",
    "            total += labels.size(0)\n",
    "            correct += (predicted == labels).sum().item()\n",
    "    \n",
    "    return total_loss / len(val_loader), correct / total\n"
   ]
  },
  {
   "cell_type": "code",
   "execution_count": 11,
   "id": "0d1fdfec-5ade-4071-8d95-1fefe86771e3",
   "metadata": {},
   "outputs": [
    {
     "name": "stdout",
     "output_type": "stream",
     "text": [
      "🚀 Starting Text-Only Baseline Training!\n",
      "============================================================\n"
     ]
    },
    {
     "name": "stderr",
     "output_type": "stream",
     "text": [
      "Training: 100%|██████████| 34/34 [00:00<00:00, 109.67it/s]\n",
      "Validating: 100%|██████████| 12/12 [00:00<00:00, 576.04it/s]\n"
     ]
    },
    {
     "name": "stdout",
     "output_type": "stream",
     "text": [
      "Epoch  1: Train Loss=0.7427, Train Acc=0.5278, Val Loss=0.6730, Val Acc=0.5848\n",
      "🎉 New best text-only model saved! Val Acc: 0.5848\n"
     ]
    },
    {
     "name": "stderr",
     "output_type": "stream",
     "text": [
      "Training: 100%|██████████| 34/34 [00:00<00:00, 223.28it/s]\n",
      "Validating: 100%|██████████| 12/12 [00:00<00:00, 562.46it/s]\n"
     ]
    },
    {
     "name": "stdout",
     "output_type": "stream",
     "text": [
      "Epoch  2: Train Loss=0.6263, Train Acc=0.6441, Val Loss=0.5552, Val Acc=0.7048\n",
      "🎉 New best text-only model saved! Val Acc: 0.7048\n"
     ]
    },
    {
     "name": "stderr",
     "output_type": "stream",
     "text": [
      "Training: 100%|██████████| 34/34 [00:00<00:00, 152.98it/s]\n",
      "Validating: 100%|██████████| 12/12 [00:00<00:00, 429.07it/s]\n"
     ]
    },
    {
     "name": "stdout",
     "output_type": "stream",
     "text": [
      "Epoch  3: Train Loss=0.5326, Train Acc=0.7343, Val Loss=0.5128, Val Acc=0.7366\n",
      "🎉 New best text-only model saved! Val Acc: 0.7366\n"
     ]
    },
    {
     "name": "stderr",
     "output_type": "stream",
     "text": [
      "Training: 100%|██████████| 34/34 [00:00<00:00, 133.06it/s]\n",
      "Validating: 100%|██████████| 12/12 [00:00<00:00, 369.69it/s]\n"
     ]
    },
    {
     "name": "stdout",
     "output_type": "stream",
     "text": [
      "Epoch  4: Train Loss=0.4605, Train Acc=0.7848, Val Loss=0.4811, Val Acc=0.7614\n",
      "🎉 New best text-only model saved! Val Acc: 0.7614\n"
     ]
    },
    {
     "name": "stderr",
     "output_type": "stream",
     "text": [
      "Training: 100%|██████████| 34/34 [00:00<00:00, 141.91it/s]\n",
      "Validating: 100%|██████████| 12/12 [00:00<00:00, 419.22it/s]\n"
     ]
    },
    {
     "name": "stdout",
     "output_type": "stream",
     "text": [
      "Epoch  5: Train Loss=0.4111, Train Acc=0.8087, Val Loss=0.4855, Val Acc=0.7752\n",
      "🎉 New best text-only model saved! Val Acc: 0.7752\n"
     ]
    },
    {
     "name": "stderr",
     "output_type": "stream",
     "text": [
      "Training: 100%|██████████| 34/34 [00:00<00:00, 135.55it/s]\n",
      "Validating: 100%|██████████| 12/12 [00:00<00:00, 352.46it/s]\n"
     ]
    },
    {
     "name": "stdout",
     "output_type": "stream",
     "text": [
      "Epoch  6: Train Loss=0.3637, Train Acc=0.8382, Val Loss=0.5306, Val Acc=0.7572\n"
     ]
    },
    {
     "name": "stderr",
     "output_type": "stream",
     "text": [
      "Training: 100%|██████████| 34/34 [00:00<00:00, 158.33it/s]\n",
      "Validating: 100%|██████████| 12/12 [00:00<00:00, 451.71it/s]\n"
     ]
    },
    {
     "name": "stdout",
     "output_type": "stream",
     "text": [
      "Epoch  7: Train Loss=0.2984, Train Acc=0.8690, Val Loss=0.6420, Val Acc=0.7407\n"
     ]
    },
    {
     "name": "stderr",
     "output_type": "stream",
     "text": [
      "Training: 100%|██████████| 34/34 [00:00<00:00, 166.62it/s]\n",
      "Validating: 100%|██████████| 12/12 [00:00<00:00, 524.02it/s]\n"
     ]
    },
    {
     "name": "stdout",
     "output_type": "stream",
     "text": [
      "Epoch  8: Train Loss=0.2703, Train Acc=0.8832, Val Loss=0.6042, Val Acc=0.7862\n",
      "🎉 New best text-only model saved! Val Acc: 0.7862\n"
     ]
    },
    {
     "name": "stderr",
     "output_type": "stream",
     "text": [
      "Training: 100%|██████████| 34/34 [00:00<00:00, 135.52it/s]\n",
      "Validating: 100%|██████████| 12/12 [00:00<00:00, 417.84it/s]\n"
     ]
    },
    {
     "name": "stdout",
     "output_type": "stream",
     "text": [
      "Epoch  9: Train Loss=0.2325, Train Acc=0.9053, Val Loss=0.5757, Val Acc=0.7697\n"
     ]
    },
    {
     "name": "stderr",
     "output_type": "stream",
     "text": [
      "Training: 100%|██████████| 34/34 [00:00<00:00, 169.05it/s]\n",
      "Validating: 100%|██████████| 12/12 [00:00<00:00, 503.26it/s]\n"
     ]
    },
    {
     "name": "stdout",
     "output_type": "stream",
     "text": [
      "Epoch 10: Train Loss=0.1590, Train Acc=0.9352, Val Loss=0.7154, Val Acc=0.7793\n"
     ]
    },
    {
     "name": "stderr",
     "output_type": "stream",
     "text": [
      "Training: 100%|██████████| 34/34 [00:00<00:00, 206.31it/s]\n",
      "Validating: 100%|██████████| 12/12 [00:00<00:00, 574.86it/s]\n"
     ]
    },
    {
     "name": "stdout",
     "output_type": "stream",
     "text": [
      "Epoch 11: Train Loss=0.1532, Train Acc=0.9370, Val Loss=0.8071, Val Acc=0.7697\n"
     ]
    },
    {
     "name": "stderr",
     "output_type": "stream",
     "text": [
      "Training: 100%|██████████| 34/34 [00:00<00:00, 193.88it/s]\n",
      "Validating: 100%|██████████| 12/12 [00:00<00:00, 667.72it/s]\n"
     ]
    },
    {
     "name": "stdout",
     "output_type": "stream",
     "text": [
      "Epoch 12: Train Loss=0.1344, Train Acc=0.9416, Val Loss=0.7950, Val Acc=0.7628\n"
     ]
    },
    {
     "name": "stderr",
     "output_type": "stream",
     "text": [
      "Training: 100%|██████████| 34/34 [00:00<00:00, 201.62it/s]\n",
      "Validating: 100%|██████████| 12/12 [00:00<00:00, 492.58it/s]"
     ]
    },
    {
     "name": "stdout",
     "output_type": "stream",
     "text": [
      "Epoch 13: Train Loss=0.0964, Train Acc=0.9623, Val Loss=0.8187, Val Acc=0.7738\n",
      "Early stopping triggered!\n",
      "✅ Text-only training completed! Best validation accuracy: 0.7862\n"
     ]
    },
    {
     "name": "stderr",
     "output_type": "stream",
     "text": [
      "\n"
     ]
    }
   ],
   "source": [
    "# Training loop\n",
    "num_epochs = 30\n",
    "best_val_acc = 0\n",
    "patience = 5\n",
    "patience_counter = 0\n",
    "\n",
    "print(\"🚀 Starting Text-Only Baseline Training!\")\n",
    "print(\"=\" * 60)\n",
    "\n",
    "for epoch in range(num_epochs):\n",
    "    # Train\n",
    "    train_loss, train_acc = train_text_epoch(text_model, train_loader, optimizer, criterion, device)\n",
    "    \n",
    "    # Validate\n",
    "    val_loss, val_acc = validate_text_epoch(text_model, val_loader, criterion, device)\n",
    "    \n",
    "    # Step scheduler\n",
    "    scheduler.step()\n",
    "    \n",
    "    print(f\"Epoch {epoch+1:2d}: Train Loss={train_loss:.4f}, Train Acc={train_acc:.4f}, \"\n",
    "          f\"Val Loss={val_loss:.4f}, Val Acc={val_acc:.4f}\")\n",
    "    \n",
    "    # Save best model\n",
    "    if val_acc > best_val_acc:\n",
    "        best_val_acc = val_acc\n",
    "        torch.save(text_model.state_dict(), './models/best_model3.pth')\n",
    "        print(f\"🎉 New best text-only model saved! Val Acc: {val_acc:.4f}\")\n",
    "        patience_counter = 0\n",
    "    else:\n",
    "        patience_counter += 1\n",
    "        if patience_counter >= patience:\n",
    "            print(\"Early stopping triggered!\")\n",
    "            break\n",
    "\n",
    "print(f\"✅ Text-only training completed! Best validation accuracy: {best_val_acc:.4f}\")\n"
   ]
  },
  {
   "cell_type": "code",
   "execution_count": 12,
   "id": "9a89cfa1-6374-4902-b64f-19f4dd6b357d",
   "metadata": {},
   "outputs": [
    {
     "name": "stderr",
     "output_type": "stream",
     "text": [
      "Testing: 100%|██████████| 12/12 [00:00<00:00, 446.59it/s]"
     ]
    },
    {
     "name": "stdout",
     "output_type": "stream",
     "text": [
      "\n",
      "==================================================\n",
      "FINAL EVALUATION RESULTS\n",
      "==================================================\n",
      "              precision    recall  f1-score   support\n",
      "\n",
      "   Real News       0.77      0.76      0.77       345\n",
      "   Fake News       0.79      0.79      0.79       381\n",
      "\n",
      "    accuracy                           0.78       726\n",
      "   macro avg       0.78      0.78      0.78       726\n",
      "weighted avg       0.78      0.78      0.78       726\n",
      "\n",
      "\n",
      "Final Test Accuracy: 0.7782\n"
     ]
    },
    {
     "name": "stderr",
     "output_type": "stream",
     "text": [
      "\n"
     ]
    }
   ],
   "source": [
    "text_model.load_state_dict(torch.load('./models/best_model3.pth'))\n",
    "text_model.eval()\n",
    "\n",
    "def evaluate_model(model, test_loader, device):\n",
    "    all_predictions = []\n",
    "    all_labels = []\n",
    "    \n",
    "    with torch.no_grad():\n",
    "        for batch in tqdm(test_loader, desc=\"Testing\"):\n",
    "            text_emb = batch['text_emb'].to(device)\n",
    "            labels = batch['label'].to(device)\n",
    "            \n",
    "            logits = model(text_emb)\n",
    "            _, predicted = torch.max(logits, 1)\n",
    "            \n",
    "            all_predictions.extend(predicted.cpu().numpy())\n",
    "            all_labels.extend(labels.cpu().numpy())\n",
    "    \n",
    "    return np.array(all_predictions), np.array(all_labels)\n",
    "\n",
    "# Final evaluation\n",
    "predictions, labels = evaluate_model(text_model, test_loader, device)\n",
    "\n",
    "# Print results\n",
    "print(\"\\n\" + \"=\"*50)\n",
    "print(\"FINAL EVALUATION RESULTS\")\n",
    "print(\"=\"*50)\n",
    "print(classification_report(labels, predictions, target_names=['Real News', 'Fake News']))\n",
    "\n",
    "# Confusion matrix\n",
    "from sklearn.metrics import accuracy_score\n",
    "accuracy = accuracy_score(labels, predictions)\n",
    "print(f\"\\nFinal Test Accuracy: {accuracy:.4f}\")\n",
    "\n"
   ]
  },
  {
   "cell_type": "code",
   "execution_count": 13,
   "id": "ff521bc1-84d5-4454-a003-d55faec0eff6",
   "metadata": {},
   "outputs": [
    {
     "name": "stdout",
     "output_type": "stream",
     "text": [
      "Detailed Classification Report:\n",
      "              precision    recall  f1-score   support\n",
      "\n",
      "           0       0.77      0.76      0.77       345\n",
      "           1       0.79      0.79      0.79       381\n",
      "\n",
      "    accuracy                           0.78       726\n",
      "   macro avg       0.78      0.78      0.78       726\n",
      "weighted avg       0.78      0.78      0.78       726\n",
      "\n",
      "ROC-AUC Score: 0.8702\n"
     ]
    }
   ],
   "source": [
    "# Calculate comprehensive metrics\n",
    "from sklearn.metrics import classification_report, confusion_matrix, roc_auc_score\n",
    "\n",
    "\n",
    "def get_predictions_and_probabilities(model, data_loader, device):\n",
    "    \"\"\"Get predictions and probabilities from PyTorch model\"\"\"\n",
    "    model.eval()\n",
    "    all_predictions = []\n",
    "    all_probabilities = []\n",
    "    all_labels = []\n",
    "    \n",
    "    with torch.no_grad():\n",
    "        for batch in data_loader:\n",
    "            text_emb = batch['text_emb'].to(device)\n",
    "            labels = batch['label'].to(device)\n",
    "            \n",
    "            # Get logits\n",
    "            logits = model(text_emb)\n",
    "            \n",
    "            # Convert to probabilities\n",
    "            probabilities = F.softmax(logits, dim=1)\n",
    "            \n",
    "            # Get predictions\n",
    "            predictions = torch.argmax(logits, dim=1)\n",
    "            \n",
    "            all_predictions.append(predictions.cpu().numpy())\n",
    "            all_probabilities.append(probabilities.cpu().numpy())\n",
    "            all_labels.append(labels.cpu().numpy())\n",
    "    \n",
    "    return (np.concatenate(all_predictions), \n",
    "            np.concatenate(all_probabilities), \n",
    "            np.concatenate(all_labels))\n",
    "\n",
    "# Usage\n",
    "y_pred, y_pred_proba, y_true = get_predictions_and_probabilities(text_model, test_loader, device)\n",
    "\n",
    "print(\"Detailed Classification Report:\")\n",
    "print(classification_report(y_true, y_pred))\n",
    "print(f\"ROC-AUC Score: {roc_auc_score(y_true, y_pred_proba[:, 1]):.4f}\")"
   ]
  },
  {
   "cell_type": "code",
   "execution_count": 14,
   "id": "531c2d07-15ee-40db-b7cd-09bf2fe8672e",
   "metadata": {},
   "outputs": [
    {
     "data": {
      "image/png": "[encoded data removed]",
      "text/plain": [
       "<Figure size 1500x1200 with 6 Axes>"
      ]
     },
     "metadata": {},
     "output_type": "display_data"
    },
    {
     "name": "stdout",
     "output_type": "stream",
     "text": [
      "🔍 DETAILED CONFUSION MATRIX ANALYSIS\n",
      "==================================================\n",
      "True Negatives (TN): 263 - Correctly identified Real News\n",
      "False Positives (FP): 82 - Real News misclassified as Fake\n",
      "False Negatives (FN): 79 - Fake News misclassified as Real\n",
      "True Positives (TP): 302 - Correctly identified Fake News\n",
      "\n",
      "📈 ERROR PATTERN ANALYSIS:\n",
      "• False Positive Rate among errors: 50.9%\n",
      "• False Negative Rate among errors: 49.1%\n",
      "⚠️  Model tends to be more aggressive (flags real news as fake)\n",
      "\n",
      "🎯 CONFIDENCE ANALYSIS:\n",
      "• Samples with low confidence (40-60%): 33\n",
      "• High confidence predictions: 693\n"
     ]
    }
   ],
   "source": [
    "import matplotlib.pyplot as plt\n",
    "import seaborn as sns\n",
    "from sklearn.metrics import confusion_matrix\n",
    "import numpy as np\n",
    "\n",
    "def detailed_confusion_matrix_analysis(y_true, y_pred, y_pred_proba, class_names=['Real News', 'Fake News']):\n",
    "    \"\"\"Comprehensive confusion matrix analysis\"\"\"\n",
    "    \n",
    "    # Calculate confusion matrix\n",
    "    cm = confusion_matrix(y_true, y_pred)\n",
    "    \n",
    "    # Create figure with subplots\n",
    "    fig, axes = plt.subplots(2, 2, figsize=(15, 12))\n",
    "    \n",
    "    # 1. Basic Confusion Matrix\n",
    "    sns.heatmap(cm, annot=True, fmt='d', cmap='Blues', \n",
    "                xticklabels=class_names, yticklabels=class_names, ax=axes[0,0])\n",
    "    axes[0,0].set_title('Confusion Matrix')\n",
    "    axes[0,0].set_xlabel('Predicted Label')\n",
    "    axes[0,0].set_ylabel('True Label')\n",
    "    \n",
    "    # 2. Normalized Confusion Matrix (Percentages)\n",
    "    cm_normalized = cm.astype('float') / cm.sum(axis=1)[:, np.newaxis]\n",
    "    sns.heatmap(cm_normalized, annot=True, fmt='.2%', cmap='Blues',\n",
    "                xticklabels=class_names, yticklabels=class_names, ax=axes[0,1])\n",
    "    axes[0,1].set_title('Normalized Confusion Matrix (%)')\n",
    "    axes[0,1].set_xlabel('Predicted Label')\n",
    "    axes[0,1].set_ylabel('True Label')\n",
    "    \n",
    "    # 3. Error Analysis\n",
    "    tn, fp, fn, tp = cm.ravel()\n",
    "    \n",
    "    error_data = {\n",
    "        'True Negatives (Correct Real)': tn,\n",
    "        'False Positives (Real→Fake)': fp,\n",
    "        'False Negatives (Fake→Real)': fn,\n",
    "        'True Positives (Correct Fake)': tp\n",
    "    }\n",
    "    \n",
    "    colors = ['green', 'orange', 'red', 'blue']\n",
    "    axes[1,0].bar(error_data.keys(), error_data.values(), color=colors)\n",
    "    axes[1,0].set_title('Detailed Error Breakdown')\n",
    "    axes[1,0].set_ylabel('Number of Samples')\n",
    "    plt.setp(axes[1,0].get_xticklabels(), rotation=45, ha='right')\n",
    "    \n",
    "    # 4. Prediction Confidence Distribution\n",
    "    axes[1,1].hist(y_pred_proba[:, 1], bins=30, alpha=0.7, label='All Predictions')\n",
    "    axes[1,1].axvline(0.5, color='red', linestyle='--', label='Decision Threshold')\n",
    "    axes[1,1].set_title('Prediction Confidence Distribution')\n",
    "    axes[1,1].set_xlabel('Fake News Probability')\n",
    "    axes[1,1].set_ylabel('Count')\n",
    "    axes[1,1].legend()\n",
    "    \n",
    "    plt.tight_layout()\n",
    "    plt.show()\n",
    "    \n",
    "    # Detailed Analysis Report\n",
    "    print(\"🔍 DETAILED CONFUSION MATRIX ANALYSIS\")\n",
    "    print(\"=\" * 50)\n",
    "    print(f\"True Negatives (TN): {tn} - Correctly identified Real News\")\n",
    "    print(f\"False Positives (FP): {fp} - Real News misclassified as Fake\")\n",
    "    print(f\"False Negatives (FN): {fn} - Fake News misclassified as Real\")\n",
    "    print(f\"True Positives (TP): {tp} - Correctly identified Fake News\")\n",
    "    print()\n",
    "    \n",
    "    # Error Analysis\n",
    "    print(\"📈 ERROR PATTERN ANALYSIS:\")\n",
    "    total_errors = fp + fn\n",
    "    if total_errors > 0:\n",
    "        fp_rate = fp / total_errors * 100\n",
    "        fn_rate = fn / total_errors * 100\n",
    "        print(f\"• False Positive Rate among errors: {fp_rate:.1f}%\")\n",
    "        print(f\"• False Negative Rate among errors: {fn_rate:.1f}%\")\n",
    "        \n",
    "        if fp > fn:\n",
    "            print(\"⚠️  Model tends to be more aggressive (flags real news as fake)\")\n",
    "        elif fn > fp:\n",
    "            print(\"⚠️  Model tends to be more conservative (misses some fake news)\")\n",
    "        else:\n",
    "            print(\"✅ Model shows balanced error patterns\")\n",
    "    \n",
    "    # Confidence Analysis\n",
    "    low_confidence = np.sum((y_pred_proba[:, 1] > 0.4) & (y_pred_proba[:, 1] < 0.6))\n",
    "    print(f\"\\n🎯 CONFIDENCE ANALYSIS:\")\n",
    "    print(f\"• Samples with low confidence (40-60%): {low_confidence}\")\n",
    "    print(f\"• High confidence predictions: {len(y_pred) - low_confidence}\")\n",
    "    \n",
    "    return cm, error_data\n",
    "\n",
    "# Usage with your model\n",
    "y_pred, y_pred_proba, y_true = get_predictions_and_probabilities(text_model, test_loader, device)\n",
    "cm_analysis = detailed_confusion_matrix_analysis(y_true, y_pred, y_pred_proba)\n"
   ]
  },
  {
   "cell_type": "code",
   "execution_count": null,
   "id": "ca06a193-8900-4ac0-85d0-0b1adb4e33df",
   "metadata": {},
   "outputs": [],
   "source": []
  }
 ],
 "metadata": {
  "kernelspec": {
   "display_name": "Python 3 (ipykernel)",
   "language": "python",
   "name": "python3"
  },
  "language_info": {
   "codemirror_mode": {
    "name": "ipython",
    "version": 3
   },
   "file_extension": ".py",
   "mimetype": "text/x-python",
   "name": "python",
   "nbconvert_exporter": "python",
   "pygments_lexer": "ipython3",
   "version": "3.11.11"
  }
 },
 "nbformat": 4,
 "nbformat_minor": 5
}
